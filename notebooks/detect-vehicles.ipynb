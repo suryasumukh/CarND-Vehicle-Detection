{
 "cells": [
  {
   "cell_type": "code",
   "execution_count": 1,
   "metadata": {
    "collapsed": true
   },
   "outputs": [],
   "source": [
    "%matplotlib inline\n",
    "from matplotlib import pyplot as plt\n",
    "\n",
    "import warnings\n",
    "warnings.filterwarnings(\"ignore\")"
   ]
  },
  {
   "cell_type": "code",
   "execution_count": 2,
   "metadata": {
    "collapsed": true
   },
   "outputs": [],
   "source": [
    "import glob\n",
    "import os\n",
    "import pickle\n",
    "import json\n",
    "\n",
    "import cv2\n",
    "import numpy as np"
   ]
  },
  {
   "cell_type": "code",
   "execution_count": 3,
   "metadata": {
    "collapsed": true
   },
   "outputs": [],
   "source": [
    "from skimage.feature import hog\n",
    "\n",
    "from sklearn.utils import shuffle\n",
    "from sklearn.model_selection import train_test_split\n",
    "from sklearn.preprocessing import StandardScaler\n",
    "\n",
    "from sklearn import svm\n",
    "from sklearn.pipeline import Pipeline\n",
    "from sklearn.metrics import confusion_matrix, f1_score \n",
    "from sklearn.metrics import accuracy_score, make_scorer"
   ]
  },
  {
   "cell_type": "code",
   "execution_count": 4,
   "metadata": {
    "collapsed": true
   },
   "outputs": [],
   "source": [
    "DATA_DIR = os.path.join('../data')\n",
    "VEHICLES = os.path.join(DATA_DIR, 'vehicles')\n",
    "NON_VEHICLES = os.path.join(DATA_DIR, 'non-vehicles')"
   ]
  },
  {
   "cell_type": "code",
   "execution_count": 5,
   "metadata": {
    "collapsed": true
   },
   "outputs": [],
   "source": [
    "def hog_feature(image, orientations=9):\n",
    "    return hog(image, orientations=orientations, \n",
    "               pixels_per_cell=(8, 8), \n",
    "               cells_per_block=(2, 2), \n",
    "               feature_vector=True)\n",
    "    \n",
    "def feature_extractor(image, orientations=9):\n",
    "    img = cv2.cvtColor(image, cv2.COLOR_RGB2YCrCb)\n",
    "    # HOG Features\n",
    "    rhf = hog_feature(img[:, :, 0], orientations)\n",
    "    ghf = hog_feature(img[:, :, 1], orientations)\n",
    "    bhf = hog_feature(img[:, :, 2], orientations)\n",
    "    return np.hstack((rhf, ghf, bhf))\n",
    "\n",
    "def feature_extractor_w_hist(image, orientations=9):\n",
    "    img = cv2.cvtColor(image, cv2.COLOR_RGB2YCrCb)\n",
    "    # HOG Features\n",
    "    rhf = hog_feature(img[:, :, 0], orientations)\n",
    "    ghf = hog_feature(img[:, :, 1], orientations)\n",
    "    bhf = hog_feature(img[:, :, 2], orientations)\n",
    "    # Histogram Features\n",
    "    channel1_hist = np.histogram(img[:,:,0], bins=32)\n",
    "    channel2_hist = np.histogram(img[:,:,1], bins=32)\n",
    "    channel3_hist = np.histogram(img[:,:,2], bins=32)\n",
    "    # Concatenate the histograms into a single feature vector\n",
    "    hist_features = np.concatenate((channel1_hist[0], channel2_hist[0], channel3_hist[0]))\n",
    "    return np.hstack((rhf, ghf, bhf, hist_features))"
   ]
  },
  {
   "cell_type": "code",
   "execution_count": 6,
   "metadata": {
    "collapsed": true
   },
   "outputs": [],
   "source": [
    "def read(data_dir, fn):\n",
    "    for img_path in glob.iglob(os.path.join(data_dir, '*', '*.png')):\n",
    "        image = cv2.imread(img_path)\n",
    "        image = cv2.cvtColor(image, cv2.COLOR_BGR2RGB).astype(np.float32)/255\n",
    "        yield fn(image)"
   ]
  },
  {
   "cell_type": "code",
   "execution_count": 13,
   "metadata": {
    "collapsed": true
   },
   "outputs": [],
   "source": [
    "vehicles = [feature for feature in read(VEHICLES, feature_extractor_w_hist)]\n",
    "non_vehicles = [feature for feature in read(NON_VEHICLES, feature_extractor_w_hist)]"
   ]
  },
  {
   "cell_type": "code",
   "execution_count": 14,
   "metadata": {
    "collapsed": true
   },
   "outputs": [],
   "source": [
    "data = np.vstack((vehicles, non_vehicles))\n",
    "labels = np.hstack((np.ones(len(vehicles), np.int32), np.zeros(len(non_vehicles), np.int32)))"
   ]
  },
  {
   "cell_type": "code",
   "execution_count": 15,
   "metadata": {},
   "outputs": [
    {
     "data": {
      "text/plain": [
       "(17760, 5388)"
      ]
     },
     "execution_count": 15,
     "metadata": {},
     "output_type": "execute_result"
    }
   ],
   "source": [
    "data.shape"
   ]
  },
  {
   "cell_type": "code",
   "execution_count": 16,
   "metadata": {
    "collapsed": true
   },
   "outputs": [],
   "source": [
    "data, labels = shuffle(data, labels)\n",
    "x_train, x_test, y_train, y_test = train_test_split(data, labels, test_size=0.2)"
   ]
  },
  {
   "cell_type": "code",
   "execution_count": 17,
   "metadata": {},
   "outputs": [
    {
     "name": "stdout",
     "output_type": "stream",
     "text": [
      "0.986204954955 [[1734   25]\n",
      " [  24 1769]] 0.98633955952\n"
     ]
    }
   ],
   "source": [
    "pipe1 = Pipeline([('scaler', StandardScaler()), ('svc', svm.LinearSVC())])\n",
    "pipe1.fit(x_train, y_train)\n",
    "\n",
    "pred = pipe1.predict(x_test)\n",
    "cm = confusion_matrix(pred, y_test)\n",
    "acc = accuracy_score(pred, y_test)\n",
    "f1 = f1_score(pred, y_test)\n",
    "print(acc, cm, f1)"
   ]
  },
  {
   "cell_type": "code",
   "execution_count": 18,
   "metadata": {
    "collapsed": true
   },
   "outputs": [],
   "source": [
    "with open('classifier_hist.p', 'wb') as _file:\n",
    "    pickle.dump(pipe1, _file)"
   ]
  },
  {
   "cell_type": "code",
   "execution_count": null,
   "metadata": {
    "collapsed": true
   },
   "outputs": [],
   "source": []
  }
 ],
 "metadata": {
  "kernelspec": {
   "display_name": "Python 3",
   "language": "python",
   "name": "python3"
  },
  "language_info": {
   "codemirror_mode": {
    "name": "ipython",
    "version": 3
   },
   "file_extension": ".py",
   "mimetype": "text/x-python",
   "name": "python",
   "nbconvert_exporter": "python",
   "pygments_lexer": "ipython3",
   "version": "3.5.2"
  },
  "widgets": {
   "state": {},
   "version": "1.1.2"
  }
 },
 "nbformat": 4,
 "nbformat_minor": 2
}
